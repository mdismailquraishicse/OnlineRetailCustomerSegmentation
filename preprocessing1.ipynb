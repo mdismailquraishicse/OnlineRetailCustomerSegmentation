{
 "cells": [
  {
   "cell_type": "code",
   "execution_count": 1,
   "id": "f7c5a3ba-96f5-4476-90f9-0e2ebc99db9f",
   "metadata": {},
   "outputs": [
    {
     "name": "stderr",
     "output_type": "stream",
     "text": [
      "[nltk_data] Error loading stopwords: <urlopen error [Errno 11001]\n",
      "[nltk_data]     getaddrinfo failed>\n"
     ]
    }
   ],
   "source": [
    "# Import libraries\n",
    "import numpy as np\n",
    "import pandas as pd\n",
    "import matplotlib.pyplot as plt\n",
    "import seaborn as sns\n",
    "import warnings\n",
    "import pickle\n",
    "import preprocessing as p\n",
    "# import nltk\n",
    "# from nltk.corpus import stopwords\n",
    "# nltk.download('stopwords')\n",
    "warnings.filterwarnings('ignore')"
   ]
  },
  {
   "cell_type": "markdown",
   "id": "2aed910e-16a5-453c-a98b-03c2a589156b",
   "metadata": {},
   "source": [
    "## Know your data"
   ]
  },
  {
   "cell_type": "code",
   "execution_count": 2,
   "id": "fc5cb795-259a-4947-ad7d-f1b290c91276",
   "metadata": {},
   "outputs": [
    {
     "data": {
      "text/html": [
       "<div>\n",
       "<style scoped>\n",
       "    .dataframe tbody tr th:only-of-type {\n",
       "        vertical-align: middle;\n",
       "    }\n",
       "\n",
       "    .dataframe tbody tr th {\n",
       "        vertical-align: top;\n",
       "    }\n",
       "\n",
       "    .dataframe thead th {\n",
       "        text-align: right;\n",
       "    }\n",
       "</style>\n",
       "<table border=\"1\" class=\"dataframe\">\n",
       "  <thead>\n",
       "    <tr style=\"text-align: right;\">\n",
       "      <th></th>\n",
       "      <th>InvoiceNo</th>\n",
       "      <th>StockCode</th>\n",
       "      <th>Description</th>\n",
       "      <th>Quantity</th>\n",
       "      <th>InvoiceDate</th>\n",
       "      <th>UnitPrice</th>\n",
       "      <th>CustomerID</th>\n",
       "      <th>Country</th>\n",
       "    </tr>\n",
       "  </thead>\n",
       "  <tbody>\n",
       "    <tr>\n",
       "      <th>0</th>\n",
       "      <td>536365</td>\n",
       "      <td>85123A</td>\n",
       "      <td>WHITE HANGING HEART T-LIGHT HOLDER</td>\n",
       "      <td>6</td>\n",
       "      <td>2010-12-01 08:26:00</td>\n",
       "      <td>2.55</td>\n",
       "      <td>17850.0</td>\n",
       "      <td>United Kingdom</td>\n",
       "    </tr>\n",
       "    <tr>\n",
       "      <th>1</th>\n",
       "      <td>536365</td>\n",
       "      <td>71053</td>\n",
       "      <td>WHITE METAL LANTERN</td>\n",
       "      <td>6</td>\n",
       "      <td>2010-12-01 08:26:00</td>\n",
       "      <td>3.39</td>\n",
       "      <td>17850.0</td>\n",
       "      <td>United Kingdom</td>\n",
       "    </tr>\n",
       "    <tr>\n",
       "      <th>2</th>\n",
       "      <td>536365</td>\n",
       "      <td>84406B</td>\n",
       "      <td>CREAM CUPID HEARTS COAT HANGER</td>\n",
       "      <td>8</td>\n",
       "      <td>2010-12-01 08:26:00</td>\n",
       "      <td>2.75</td>\n",
       "      <td>17850.0</td>\n",
       "      <td>United Kingdom</td>\n",
       "    </tr>\n",
       "    <tr>\n",
       "      <th>3</th>\n",
       "      <td>536365</td>\n",
       "      <td>84029G</td>\n",
       "      <td>KNITTED UNION FLAG HOT WATER BOTTLE</td>\n",
       "      <td>6</td>\n",
       "      <td>2010-12-01 08:26:00</td>\n",
       "      <td>3.39</td>\n",
       "      <td>17850.0</td>\n",
       "      <td>United Kingdom</td>\n",
       "    </tr>\n",
       "    <tr>\n",
       "      <th>4</th>\n",
       "      <td>536365</td>\n",
       "      <td>84029E</td>\n",
       "      <td>RED WOOLLY HOTTIE WHITE HEART.</td>\n",
       "      <td>6</td>\n",
       "      <td>2010-12-01 08:26:00</td>\n",
       "      <td>3.39</td>\n",
       "      <td>17850.0</td>\n",
       "      <td>United Kingdom</td>\n",
       "    </tr>\n",
       "  </tbody>\n",
       "</table>\n",
       "</div>"
      ],
      "text/plain": [
       "  InvoiceNo StockCode                          Description  Quantity  \\\n",
       "0    536365    85123A   WHITE HANGING HEART T-LIGHT HOLDER         6   \n",
       "1    536365     71053                  WHITE METAL LANTERN         6   \n",
       "2    536365    84406B       CREAM CUPID HEARTS COAT HANGER         8   \n",
       "3    536365    84029G  KNITTED UNION FLAG HOT WATER BOTTLE         6   \n",
       "4    536365    84029E       RED WOOLLY HOTTIE WHITE HEART.         6   \n",
       "\n",
       "          InvoiceDate  UnitPrice  CustomerID         Country  \n",
       "0 2010-12-01 08:26:00       2.55     17850.0  United Kingdom  \n",
       "1 2010-12-01 08:26:00       3.39     17850.0  United Kingdom  \n",
       "2 2010-12-01 08:26:00       2.75     17850.0  United Kingdom  \n",
       "3 2010-12-01 08:26:00       3.39     17850.0  United Kingdom  \n",
       "4 2010-12-01 08:26:00       3.39     17850.0  United Kingdom  "
      ]
     },
     "execution_count": 2,
     "metadata": {},
     "output_type": "execute_result"
    }
   ],
   "source": [
    "path = './data/Online Retail.xlsx'\n",
    "df = pd.read_excel(path)\n",
    "df.head()"
   ]
  },
  {
   "cell_type": "code",
   "execution_count": 3,
   "id": "05fdf715-a827-4ec1-a167-33cc71c8adf1",
   "metadata": {},
   "outputs": [
    {
     "name": "stdout",
     "output_type": "stream",
     "text": [
      "Shape :  (541909, 8)\n",
      "\n",
      "# of Duplicated rows :  5268\n",
      "\n",
      "Columns : Index(['InvoiceNo', 'StockCode', 'Description', 'Quantity', 'InvoiceDate',\n",
      "       'UnitPrice', 'CustomerID', 'Country'],\n",
      "      dtype='object')\n",
      "\n",
      "# of missing/nan for in column :\n",
      "InvoiceNo           0\n",
      "StockCode           0\n",
      "Description      1454\n",
      "Quantity            0\n",
      "InvoiceDate         0\n",
      "UnitPrice           0\n",
      "CustomerID     135080\n",
      "Country             0\n",
      "dtype: int64\n",
      "\n",
      "# of unique values in each column\n",
      "InvoiceNo      25900\n",
      "StockCode       4070\n",
      "Description     4223\n",
      "Quantity         722\n",
      "InvoiceDate    23260\n",
      "UnitPrice       1630\n",
      "CustomerID      4372\n",
      "Country           38\n",
      "dtype: int64\n",
      "\n",
      "Info :\n",
      "<class 'pandas.core.frame.DataFrame'>\n",
      "RangeIndex: 541909 entries, 0 to 541908\n",
      "Data columns (total 8 columns):\n",
      " #   Column       Non-Null Count   Dtype         \n",
      "---  ------       --------------   -----         \n",
      " 0   InvoiceNo    541909 non-null  object        \n",
      " 1   StockCode    541909 non-null  object        \n",
      " 2   Description  540455 non-null  object        \n",
      " 3   Quantity     541909 non-null  int64         \n",
      " 4   InvoiceDate  541909 non-null  datetime64[ns]\n",
      " 5   UnitPrice    541909 non-null  float64       \n",
      " 6   CustomerID   406829 non-null  float64       \n",
      " 7   Country      541909 non-null  object        \n",
      "dtypes: datetime64[ns](1), float64(2), int64(1), object(4)\n",
      "memory usage: 33.1+ MB\n",
      "None\n"
     ]
    }
   ],
   "source": [
    "# Know Your data\n",
    "print('Shape : ',df.shape) # shape\n",
    "print()\n",
    "print('# of Duplicated rows : ',df.duplicated().sum()) # duplicated row  count\n",
    "print()\n",
    "print('Columns :', df.columns) # columns\n",
    "print()\n",
    "print('# of missing/nan for in column :')\n",
    "print(df.isna().sum()) # nan count\n",
    "print()\n",
    "print('# of unique values in each column')\n",
    "print(df.nunique()) # unique count\n",
    "print()\n",
    "print('Info :')\n",
    "print(df.info()) # info"
   ]
  },
  {
   "cell_type": "code",
   "execution_count": 4,
   "id": "3ae4b001-a4c3-4824-b47f-1e46b294fa2c",
   "metadata": {},
   "outputs": [
    {
     "data": {
      "text/html": [
       "<div>\n",
       "<style scoped>\n",
       "    .dataframe tbody tr th:only-of-type {\n",
       "        vertical-align: middle;\n",
       "    }\n",
       "\n",
       "    .dataframe tbody tr th {\n",
       "        vertical-align: top;\n",
       "    }\n",
       "\n",
       "    .dataframe thead th {\n",
       "        text-align: right;\n",
       "    }\n",
       "</style>\n",
       "<table border=\"1\" class=\"dataframe\">\n",
       "  <thead>\n",
       "    <tr style=\"text-align: right;\">\n",
       "      <th></th>\n",
       "      <th>Quantity</th>\n",
       "      <th>InvoiceDate</th>\n",
       "      <th>UnitPrice</th>\n",
       "      <th>CustomerID</th>\n",
       "    </tr>\n",
       "  </thead>\n",
       "  <tbody>\n",
       "    <tr>\n",
       "      <th>count</th>\n",
       "      <td>541909.000000</td>\n",
       "      <td>541909</td>\n",
       "      <td>541909.000000</td>\n",
       "      <td>406829.000000</td>\n",
       "    </tr>\n",
       "    <tr>\n",
       "      <th>mean</th>\n",
       "      <td>9.552250</td>\n",
       "      <td>2011-07-04 13:34:57.156386048</td>\n",
       "      <td>4.611114</td>\n",
       "      <td>15287.690570</td>\n",
       "    </tr>\n",
       "    <tr>\n",
       "      <th>min</th>\n",
       "      <td>-80995.000000</td>\n",
       "      <td>2010-12-01 08:26:00</td>\n",
       "      <td>-11062.060000</td>\n",
       "      <td>12346.000000</td>\n",
       "    </tr>\n",
       "    <tr>\n",
       "      <th>25%</th>\n",
       "      <td>1.000000</td>\n",
       "      <td>2011-03-28 11:34:00</td>\n",
       "      <td>1.250000</td>\n",
       "      <td>13953.000000</td>\n",
       "    </tr>\n",
       "    <tr>\n",
       "      <th>50%</th>\n",
       "      <td>3.000000</td>\n",
       "      <td>2011-07-19 17:17:00</td>\n",
       "      <td>2.080000</td>\n",
       "      <td>15152.000000</td>\n",
       "    </tr>\n",
       "    <tr>\n",
       "      <th>75%</th>\n",
       "      <td>10.000000</td>\n",
       "      <td>2011-10-19 11:27:00</td>\n",
       "      <td>4.130000</td>\n",
       "      <td>16791.000000</td>\n",
       "    </tr>\n",
       "    <tr>\n",
       "      <th>max</th>\n",
       "      <td>80995.000000</td>\n",
       "      <td>2011-12-09 12:50:00</td>\n",
       "      <td>38970.000000</td>\n",
       "      <td>18287.000000</td>\n",
       "    </tr>\n",
       "    <tr>\n",
       "      <th>std</th>\n",
       "      <td>218.081158</td>\n",
       "      <td>NaN</td>\n",
       "      <td>96.759853</td>\n",
       "      <td>1713.600303</td>\n",
       "    </tr>\n",
       "  </tbody>\n",
       "</table>\n",
       "</div>"
      ],
      "text/plain": [
       "            Quantity                    InvoiceDate      UnitPrice  \\\n",
       "count  541909.000000                         541909  541909.000000   \n",
       "mean        9.552250  2011-07-04 13:34:57.156386048       4.611114   \n",
       "min    -80995.000000            2010-12-01 08:26:00  -11062.060000   \n",
       "25%         1.000000            2011-03-28 11:34:00       1.250000   \n",
       "50%         3.000000            2011-07-19 17:17:00       2.080000   \n",
       "75%        10.000000            2011-10-19 11:27:00       4.130000   \n",
       "max     80995.000000            2011-12-09 12:50:00   38970.000000   \n",
       "std       218.081158                            NaN      96.759853   \n",
       "\n",
       "          CustomerID  \n",
       "count  406829.000000  \n",
       "mean    15287.690570  \n",
       "min     12346.000000  \n",
       "25%     13953.000000  \n",
       "50%     15152.000000  \n",
       "75%     16791.000000  \n",
       "max     18287.000000  \n",
       "std      1713.600303  "
      ]
     },
     "execution_count": 4,
     "metadata": {},
     "output_type": "execute_result"
    }
   ],
   "source": [
    "# Describe\n",
    "df.describe()"
   ]
  },
  {
   "cell_type": "markdown",
   "id": "06a5e584-27cf-48c7-abe0-785de9b7fff1",
   "metadata": {},
   "source": [
    "1. There are 5268 duplicates rows we need to drop them.\n",
    "2. Description has 1454 nan values and this column is very useful column for model building without this column we can't make good prediction.\n",
    "3. Customer id has 135080 missing values we will consider them as unknown customers so that we can see what kind of customers they were.\n",
    "4. Mean and median in Quantity column is huge, that indicates there might be presence of some outliers."
   ]
  },
  {
   "cell_type": "markdown",
   "id": "ec9fa7ed-4ca8-432b-b1ac-5aa339872f3b",
   "metadata": {},
   "source": [
    "## EDA"
   ]
  },
  {
   "cell_type": "code",
   "execution_count": 5,
   "id": "11c69651-c287-478c-9ed0-4d3f6dbe9867",
   "metadata": {},
   "outputs": [],
   "source": [
    "df.drop_duplicates(inplace=True) # Dropping duplicates\n",
    "df = df[df['Description'].isna()==False] # Dropping nan from Discription\n",
    "df = df[df['CustomerID'].isna() == False] # Since we are making segmentation customerwise therefore I am dropping nan from CustomerID\n",
    "df['CustomerID'] = df['CustomerID'].apply(lambda x:int(x)) # Converting CustomerID float to int type\n",
    "df['price'] = df['Quantity'] * df['UnitPrice'] # Calculating price of the items"
   ]
  },
  {
   "cell_type": "code",
   "execution_count": 6,
   "id": "d11715bf-c7b8-48b5-9fe5-19aab04b0f55",
   "metadata": {},
   "outputs": [
    {
     "data": {
      "image/png": "[encoded data removed]",
      "text/plain": [
       "<Figure size 1400x400 with 1 Axes>"
      ]
     },
     "metadata": {},
     "output_type": "display_data"
    }
   ],
   "source": [
    "x = df['InvoiceNo'].value_counts()\n",
    "plt.rcParams['figure.figsize'] = (14,4)\n",
    "x.head(20).plot.bar()\n",
    "plt.ylabel('Count')\n",
    "plt.title('Top 20 invoiceNo')\n",
    "plt.show()"
   ]
  },
  {
   "cell_type": "code",
   "execution_count": 7,
   "id": "7c0bb22c-88f3-42ad-b62b-502fd9adf8d6",
   "metadata": {},
   "outputs": [
    {
     "data": {
      "image/png": "[encoded data removed]",
      "text/plain": [
       "<Figure size 1400x400 with 1 Axes>"
      ]
     },
     "metadata": {},
     "output_type": "display_data"
    }
   ],
   "source": [
    "x = df['CustomerID'].value_counts()\n",
    "plt.rcParams['figure.figsize'] = (14,4)\n",
    "x.head(20).plot.bar()\n",
    "plt.ylabel('Count')\n",
    "plt.title('Top 20 Customers')\n",
    "plt.show()"
   ]
  },
  {
   "cell_type": "code",
   "execution_count": 8,
   "id": "d21f4c96-605c-4815-9362-bed86674152f",
   "metadata": {},
   "outputs": [
    {
     "name": "stdout",
     "output_type": "stream",
     "text": [
      "                   0        1        2        3        4        5        6   \\\n",
      "CustomerID      16446    12346    15098    15749    16029    12536    16029   \n",
      "InvoiceNo     C581484  C541433  C556445  C550456  C570556  C573079  C551685   \n",
      "total_price -168469.6 -77183.6 -38970.0 -22998.4 -9466.56 -8322.12 -8142.75   \n",
      "\n",
      "                  7        8        9   ...       40       41       42  \\\n",
      "CustomerID     16029    12744    14911  ...    15769    12748    12757   \n",
      "InvoiceNo    C551699  C571750  C562375  ...  C567706  C576831  C554302   \n",
      "total_price  -6930.0 -6068.06  -4345.1  ...  -1326.0  -1301.0 -1241.98   \n",
      "\n",
      "                  43       44       45       46       47       48       49  \n",
      "CustomerID     12757    14146    14213    17404    14031    16013    14680  \n",
      "InvoiceNo    C554154  C542426  C536850  C538847  C548532  C556925  C568879  \n",
      "total_price -1241.98 -1241.43  -1192.2  -1188.0  -1170.0  -1155.0 -1146.07  \n",
      "\n",
      "[3 rows x 50 columns]\n"
     ]
    }
   ],
   "source": [
    "x = df.groupby(['CustomerID','InvoiceNo'])['price'].sum()\n",
    "x = x.sort_values().reset_index().rename({'price':'total_price'},axis=1)\n",
    "print(x[x['total_price'] < 0].head(50).T) # We found that InvoiceNo starts with 'C' has negative price it means the customers cancelled the orders"
   ]
  },
  {
   "cell_type": "code",
   "execution_count": 9,
   "id": "f65bdf84-71c5-4803-a218-fd49cfa27a43",
   "metadata": {},
   "outputs": [
    {
     "data": {
      "image/png": "[encoded data removed]",
      "text/plain": [
       "<Figure size 1400x400 with 1 Axes>"
      ]
     },
     "metadata": {},
     "output_type": "display_data"
    }
   ],
   "source": [
    "x = x.groupby(['CustomerID'])['total_price'].sum()\n",
    "x.sort_values(ascending=False).head(50).plot.bar()\n",
    "plt.title('Top 50 customers who purchased most')\n",
    "plt.ylabel('total price')\n",
    "plt.show()"
   ]
  },
  {
   "cell_type": "code",
   "execution_count": 10,
   "id": "c9021b33-f510-44b7-8b51-e35307c3f538",
   "metadata": {},
   "outputs": [
    {
     "name": "stderr",
     "output_type": "stream",
     "text": [
      "A subdirectory or file preprocessed_data already exists.\n"
     ]
    }
   ],
   "source": [
    "regular_customers = df['CustomerID'].value_counts().reset_index() # For this project I will consider only those customer who are regular buyer\n",
    "regular_customers = regular_customers[regular_customers['count'] > 5] # Considering the customers purchased more than 5 times atleast\n",
    "df = df[df['CustomerID'].isin(regular_customers['CustomerID'])]\n",
    "df['transformedCountry'] = df['Country'].apply(lambda x:x.replace(' ','')) # I don't want words like 'United Kingdom' to treat like two different words\n",
    "df['tags'] = ' '+df['Description']+' '+df['transformedCountry']+' ' # concatening Describe and Countrya and also 1 space before and after the tags\n",
    "customer_tag_df = df.groupby(['CustomerID'])['tags'].sum().reset_index() # Concatenating description for each customer together\n",
    "customer_tag_df = customer_tag_df.set_index(customer_tag_df['CustomerID']).drop('CustomerID',axis=1) # Setting index and dropping CustomerID\n",
    "customer_tag_df['processed_tags'] = customer_tag_df['tags']\n",
    "customer_tag_df['tags'] = customer_tag_df['tags'].apply(lambda x: ' '.join(list(set(x.split())))) # Revome duplicates\n",
    "customer_tag_df['processed_tags'] = customer_tag_df['processed_tags'].apply(p.preprocessing) # Textual preprocessing\n",
    "# making directory for data saving\n",
    "! mkdir preprocessed_data \n",
    "customer_tag_df.to_csv('./preprocessed_data/clean_data.csv') # saving the clean data in csv form"
   ]
  },
  {
   "cell_type": "code",
   "execution_count": 11,
   "id": "1c070b27-108b-4767-b20d-0da6457385d0",
   "metadata": {},
   "outputs": [
    {
     "data": {
      "text/html": [
       "<div>\n",
       "<style scoped>\n",
       "    .dataframe tbody tr th:only-of-type {\n",
       "        vertical-align: middle;\n",
       "    }\n",
       "\n",
       "    .dataframe tbody tr th {\n",
       "        vertical-align: top;\n",
       "    }\n",
       "\n",
       "    .dataframe thead th {\n",
       "        text-align: right;\n",
       "    }\n",
       "</style>\n",
       "<table border=\"1\" class=\"dataframe\">\n",
       "  <thead>\n",
       "    <tr style=\"text-align: right;\">\n",
       "      <th></th>\n",
       "      <th>tags</th>\n",
       "      <th>processed_tags</th>\n",
       "    </tr>\n",
       "    <tr>\n",
       "      <th>CustomerID</th>\n",
       "      <th></th>\n",
       "      <th></th>\n",
       "    </tr>\n",
       "  </thead>\n",
       "  <tbody>\n",
       "    <tr>\n",
       "      <th>12347</th>\n",
       "      <td>PIECE PEN,COAL HOOK RABBIT FUN SUNDAE DECORATI...</td>\n",
       "      <td>black candelabra tlight holder iceland airlin ...</td>\n",
       "    </tr>\n",
       "    <tr>\n",
       "      <th>12348</th>\n",
       "      <td>PEN POSTAGE SUNDAE SKULL 9 GLOSS Finland DOLLY...</td>\n",
       "      <td>sweetheart fairi cake case finland cake case d...</td>\n",
       "    </tr>\n",
       "    <tr>\n",
       "      <th>12349</th>\n",
       "      <td>PIECE YOUR LEVEL TIDY SONGBIRD RIBBON 20 GIFT ...</td>\n",
       "      <td>parisienn curio cabinet itali sweetheart wall ...</td>\n",
       "    </tr>\n",
       "    <tr>\n",
       "      <th>12350</th>\n",
       "      <td>PLASTIC BAG RETRO NEIGHBOURHOOD POSTAGE FLAG T...</td>\n",
       "      <td>chocol this way metal sign norway metal sign n...</td>\n",
       "    </tr>\n",
       "    <tr>\n",
       "      <th>12352</th>\n",
       "      <td>PIECE FUN PEDESTAL BABY JELLY HARMONICA BLOCK ...</td>\n",
       "      <td>wooden happi birthday garland norway pink doug...</td>\n",
       "    </tr>\n",
       "  </tbody>\n",
       "</table>\n",
       "</div>"
      ],
      "text/plain": [
       "                                                         tags  \\\n",
       "CustomerID                                                      \n",
       "12347       PIECE PEN,COAL HOOK RABBIT FUN SUNDAE DECORATI...   \n",
       "12348       PEN POSTAGE SUNDAE SKULL 9 GLOSS Finland DOLLY...   \n",
       "12349       PIECE YOUR LEVEL TIDY SONGBIRD RIBBON 20 GIFT ...   \n",
       "12350       PLASTIC BAG RETRO NEIGHBOURHOOD POSTAGE FLAG T...   \n",
       "12352       PIECE FUN PEDESTAL BABY JELLY HARMONICA BLOCK ...   \n",
       "\n",
       "                                               processed_tags  \n",
       "CustomerID                                                     \n",
       "12347       black candelabra tlight holder iceland airlin ...  \n",
       "12348       sweetheart fairi cake case finland cake case d...  \n",
       "12349       parisienn curio cabinet itali sweetheart wall ...  \n",
       "12350       chocol this way metal sign norway metal sign n...  \n",
       "12352       wooden happi birthday garland norway pink doug...  "
      ]
     },
     "execution_count": 11,
     "metadata": {},
     "output_type": "execute_result"
    }
   ],
   "source": [
    "customer_tag_df.head()"
   ]
  },
  {
   "cell_type": "code",
   "execution_count": null,
   "id": "491141f6-1f55-40c6-9669-b675bb26fc6b",
   "metadata": {},
   "outputs": [],
   "source": []
  }
 ],
 "metadata": {
  "kernelspec": {
   "display_name": "Python 3 (ipykernel)",
   "language": "python",
   "name": "python3"
  },
  "language_info": {
   "codemirror_mode": {
    "name": "ipython",
    "version": 3
   },
   "file_extension": ".py",
   "mimetype": "text/x-python",
   "name": "python",
   "nbconvert_exporter": "python",
   "pygments_lexer": "ipython3",
   "version": "3.11.7"
  }
 },
 "nbformat": 4,
 "nbformat_minor": 5
}
